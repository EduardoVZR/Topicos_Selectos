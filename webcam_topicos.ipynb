{
 "cells": [
  {
   "cell_type": "code",
   "execution_count": 2,
   "metadata": {},
   "outputs": [
    {
     "ename": "AttributeError",
     "evalue": "'function' object has no attribute 'predict'",
     "output_type": "error",
     "traceback": [
      "\u001b[1;31m---------------------------------------------------------------------------\u001b[0m",
      "\u001b[1;31mAttributeError\u001b[0m                            Traceback (most recent call last)",
      "Cell \u001b[1;32mIn[2], line 27\u001b[0m\n\u001b[0;32m     24\u001b[0m imagen_np \u001b[38;5;241m=\u001b[39m imagen_np \u001b[38;5;241m/\u001b[39m \u001b[38;5;241m255.0\u001b[39m  \u001b[38;5;66;03m# Normalizar si fue así en el entrenamiento\u001b[39;00m\n\u001b[0;32m     26\u001b[0m \u001b[38;5;66;03m# Aplica tu modelo KMeans\u001b[39;00m\n\u001b[1;32m---> 27\u001b[0m cluster_pred \u001b[38;5;241m=\u001b[39m \u001b[43mk_means\u001b[49m\u001b[38;5;241;43m.\u001b[39;49m\u001b[43mpredict\u001b[49m([imagen_np])\n\u001b[0;32m     29\u001b[0m \u001b[38;5;66;03m# Muestra el frame procesado en la UI\u001b[39;00m\n\u001b[0;32m     30\u001b[0m cv2\u001b[38;5;241m.\u001b[39mimshow(\u001b[38;5;124m'\u001b[39m\u001b[38;5;124mFrame\u001b[39m\u001b[38;5;124m'\u001b[39m, frame)\n",
      "\u001b[1;31mAttributeError\u001b[0m: 'function' object has no attribute 'predict'"
     ]
    }
   ],
   "source": [
    "import cv2\n",
    "import numpy as np\n",
    "from sklearn.cluster import KMeans\n",
    "from PIL import Image\n",
    "\n",
    "# Inicializa la captura de video\n",
    "cap = cv2.VideoCapture(0)  # '0' es generalmente el índice de la cámara predeterminada\n",
    "\n",
    "try:\n",
    "    while True:\n",
    "        # Captura frame-por-frame\n",
    "        ret, frame = cap.read()\n",
    "        \n",
    "        # Si frame se capturó correctamente, ret es True\n",
    "        if not ret:\n",
    "            print(\"No se pudo capturar el video\")\n",
    "            break\n",
    "\n",
    "        # Convertir el frame de BGR (que OpenCV usa) a RGB\n",
    "        frame_rgb = cv2.cvtColor(frame, cv2.COLOR_BGR2RGB)\n",
    "\n",
    "        imagen_pil = Image.fromarray(frame_rgb).resize((8, 8)).convert('L')\n",
    "        imagen_np = np.array(imagen_pil).flatten()\n",
    "        imagen_np = imagen_np / 255.0  # Normalizar si fue así en el entrenamiento\n",
    "\n",
    "        # Aplica tu modelo KMeans\n",
    "        cluster_pred = kmeans.predict([imagen_np])\n",
    "\n",
    "        # Muestra el frame procesado en la UI\n",
    "        cv2.imshow('Frame', frame)\n",
    "\n",
    "        # Presiona 'q' para salir del bucle\n",
    "        if cv2.waitKey(1) & 0xFF == ord('q'):\n",
    "            break\n",
    "finally:\n",
    "    # Cuando todo esté hecho, libera la captura\n",
    "    cap.release()\n",
    "    cv2.destroyAllWindows()"
   ]
  },
  {
   "cell_type": "code",
   "execution_count": null,
   "metadata": {},
   "outputs": [],
   "source": []
  }
 ],
 "metadata": {
  "kernelspec": {
   "display_name": "Actividad1",
   "language": "python",
   "name": "python3"
  },
  "language_info": {
   "codemirror_mode": {
    "name": "ipython",
    "version": 3
   },
   "file_extension": ".py",
   "mimetype": "text/x-python",
   "name": "python",
   "nbconvert_exporter": "python",
   "pygments_lexer": "ipython3",
   "version": "3.10.12"
  }
 },
 "nbformat": 4,
 "nbformat_minor": 2
}
